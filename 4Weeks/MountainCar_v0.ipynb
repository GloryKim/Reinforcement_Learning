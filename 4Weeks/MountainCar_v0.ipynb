{
  "nbformat": 4,
  "nbformat_minor": 0,
  "metadata": {
    "kernelspec": {
      "display_name": "Python 3",
      "language": "python",
      "name": "python3"
    },
    "language_info": {
      "codemirror_mode": {
        "name": "ipython",
        "version": 3
      },
      "file_extension": ".py",
      "mimetype": "text/x-python",
      "name": "python",
      "nbconvert_exporter": "python",
      "pygments_lexer": "ipython3",
      "version": "3.6.6"
    },
    "colab": {
      "name": "MountainCar-v0.ipynb",
      "provenance": [],
      "collapsed_sections": []
    },
    "accelerator": "TPU"
  },
  "cells": [
    {
      "cell_type": "markdown",
      "metadata": {
        "id": "nEZ_pyqM9Av-",
        "colab_type": "text"
      },
      "source": [
        "**MountatinCar-v0 Review**\n",
        "\n",
        "Goal : 가장 아래의 골짜기 시작점에서 목표지점까지 깃발 까지 가는데에 실선을 따라서 간다.\n",
        "\n",
        "Action_Space : print(env.action_space) 출력값은\n",
        "\n",
        "-> Discrete(3) # Down, Left, Right이다. 행동 공간, Agent가 할 수 있는 행동의 경우의 수를 의미한다. Discrete는 이산적이라는 뜻으로, 정수로 나눌 수 있다는 것을 의미한다. 해당 환경에서는 Discrete(3)으로 '왼쪽'(0), '정지'(1), '오른쪽'(2) 총 3가지 행동이 가능하다.\n",
        "\n",
        "Observation_space : print(env.observation_space) 출력값은\n",
        "\n",
        "-> Box(2,) 관찰 공간, Agent가 환경을 볼 수 있는 범위를 의미한다. 해당 공간에서만 정보를 얻을 수 있다. 이 관찰공간에서 low는 x축 좌표의 최솟값과, 최소 속도이다. high는 x축 좌표의 최댓값과 최대 속도를 보여준다.\n",
        "\n",
        "render 출력은 아래의 화면처럼 나온다.\n",
        "\n"
      ]
    },
    {
      "cell_type": "markdown",
      "metadata": {
        "id": "Gqbvn7Jq87Ej",
        "colab_type": "text"
      },
      "source": [
        "![MountainCar.PNG](data:image/png;base64,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)"
      ]
    },
    {
      "cell_type": "code",
      "metadata": {
        "id": "_ipc__oQnKsg",
        "colab_type": "code",
        "colab": {
          "base_uri": "https://localhost:8080/",
          "height": 989
        },
        "outputId": "12914b9c-d92d-4d19-bcd1-fa121e0b5071"
      },
      "source": [
        "!apt-get install python-opengl -y\n",
        "\n",
        "!apt install xvfb -y\n",
        "\n",
        "!pip install pyvirtualdisplay\n",
        "\n",
        "!pip install piglet"
      ],
      "execution_count": null,
      "outputs": [
        {
          "output_type": "stream",
          "text": [
            "Reading package lists... Done\n",
            "Building dependency tree       \n",
            "Reading state information... Done\n",
            "Suggested packages:\n",
            "  libgle3\n",
            "The following NEW packages will be installed:\n",
            "  python-opengl\n",
            "0 upgraded, 1 newly installed, 0 to remove and 11 not upgraded.\n",
            "Need to get 496 kB of archives.\n",
            "After this operation, 5,416 kB of additional disk space will be used.\n",
            "Get:1 http://archive.ubuntu.com/ubuntu bionic/universe amd64 python-opengl all 3.1.0+dfsg-1 [496 kB]\n",
            "Fetched 496 kB in 1s (662 kB/s)\n",
            "Selecting previously unselected package python-opengl.\n",
            "(Reading database ... 144676 files and directories currently installed.)\n",
            "Preparing to unpack .../python-opengl_3.1.0+dfsg-1_all.deb ...\n",
            "Unpacking python-opengl (3.1.0+dfsg-1) ...\n",
            "Setting up python-opengl (3.1.0+dfsg-1) ...\n",
            "Reading package lists... Done\n",
            "Building dependency tree       \n",
            "Reading state information... Done\n",
            "The following NEW packages will be installed:\n",
            "  xvfb\n",
            "0 upgraded, 1 newly installed, 0 to remove and 11 not upgraded.\n",
            "Need to get 783 kB of archives.\n",
            "After this operation, 2,266 kB of additional disk space will be used.\n",
            "Get:1 http://archive.ubuntu.com/ubuntu bionic-updates/universe amd64 xvfb amd64 2:1.19.6-1ubuntu4.6 [783 kB]\n",
            "Fetched 783 kB in 1s (985 kB/s)\n",
            "Selecting previously unselected package xvfb.\n",
            "(Reading database ... 147031 files and directories currently installed.)\n",
            "Preparing to unpack .../xvfb_2%3a1.19.6-1ubuntu4.6_amd64.deb ...\n",
            "Unpacking xvfb (2:1.19.6-1ubuntu4.6) ...\n",
            "Setting up xvfb (2:1.19.6-1ubuntu4.6) ...\n",
            "Processing triggers for man-db (2.8.3-2ubuntu0.1) ...\n",
            "Collecting pyvirtualdisplay\n",
            "  Downloading https://files.pythonhosted.org/packages/d0/8a/643043cc70791367bee2d19eb20e00ed1a246ac48e5dbe57bbbcc8be40a9/PyVirtualDisplay-1.3.2-py2.py3-none-any.whl\n",
            "Collecting EasyProcess\n",
            "  Downloading https://files.pythonhosted.org/packages/48/3c/75573613641c90c6d094059ac28adb748560d99bd27ee6f80cce398f404e/EasyProcess-0.3-py2.py3-none-any.whl\n",
            "Installing collected packages: EasyProcess, pyvirtualdisplay\n",
            "Successfully installed EasyProcess-0.3 pyvirtualdisplay-1.3.2\n",
            "Collecting piglet\n",
            "  Downloading https://files.pythonhosted.org/packages/11/56/6840e5f45626dc7eb7cd5dff57d11880b3113723b3b7b1fb1fa537855b75/piglet-1.0.0-py2.py3-none-any.whl\n",
            "Collecting piglet-templates\n",
            "\u001b[?25l  Downloading https://files.pythonhosted.org/packages/d0/dc/d628dcdf0b38b8f230e9c2309bfa370d2e3fb95e9e9c260213d10fde91ac/piglet_templates-1.0.0-py3-none-any.whl (63kB)\n",
            "\u001b[K     |████████████████████████████████| 71kB 2.6MB/s \n",
            "\u001b[?25hRequirement already satisfied: attrs in /usr/local/lib/python3.6/dist-packages (from piglet-templates->piglet) (20.2.0)\n",
            "Requirement already satisfied: astunparse in /usr/local/lib/python3.6/dist-packages (from piglet-templates->piglet) (1.6.3)\n",
            "Collecting Parsley\n",
            "\u001b[?25l  Downloading https://files.pythonhosted.org/packages/2b/d6/4fed8d65e28a970e1c5cb33ce9c7e22e3de745e1b2ae37af051ef16aea3b/Parsley-1.3-py2.py3-none-any.whl (88kB)\n",
            "\u001b[K     |████████████████████████████████| 92kB 5.5MB/s \n",
            "\u001b[?25hRequirement already satisfied: markupsafe in /usr/local/lib/python3.6/dist-packages (from piglet-templates->piglet) (1.1.1)\n",
            "Requirement already satisfied: wheel<1.0,>=0.23.0 in /usr/local/lib/python3.6/dist-packages (from astunparse->piglet-templates->piglet) (0.35.1)\n",
            "Requirement already satisfied: six<2.0,>=1.6.1 in /usr/local/lib/python3.6/dist-packages (from astunparse->piglet-templates->piglet) (1.15.0)\n",
            "Installing collected packages: Parsley, piglet-templates, piglet\n",
            "Successfully installed Parsley-1.3 piglet-1.0.0 piglet-templates-1.0.0\n"
          ],
          "name": "stdout"
        }
      ]
    },
    {
      "cell_type": "code",
      "metadata": {
        "_cell_guid": "b1076dfc-b9ad-4769-8c92-a6c4dae69d19",
        "_uuid": "8f2839f25d086af736a60e9eeb907d3b93b6e0e5",
        "id": "gJ0b5sAynKsj",
        "colab_type": "code",
        "colab": {
          "base_uri": "https://localhost:8080/",
          "height": 53
        },
        "outputId": "b844d0e8-248e-4d41-c21a-229f9fcb1ff3"
      },
      "source": [
        "import gym\n",
        "import numpy as np\n",
        "import random\n",
        "import torch\n",
        "import torch.nn as nn\n",
        "import torch.optim as optim\n",
        "import torch.nn.functional as F\n",
        "from torch.autograd import Variable\n",
        "from torch.distributions import Categorical\n",
        "import matplotlib.pyplot as plt\n",
        "import seaborn as sns"
      ],
      "execution_count": null,
      "outputs": [
        {
          "output_type": "stream",
          "text": [
            "/usr/local/lib/python3.6/dist-packages/statsmodels/tools/_testing.py:19: FutureWarning: pandas.util.testing is deprecated. Use the functions in the public API at pandas.testing instead.\n",
            "  import pandas.util.testing as tm\n"
          ],
          "name": "stderr"
        }
      ]
    },
    {
      "cell_type": "code",
      "metadata": {
        "id": "kzWzhWiInKsl",
        "colab_type": "code",
        "colab": {}
      },
      "source": [
        "num_episodes = 1000\n",
        "verbose = True\n",
        "print_every = 100\n",
        "target_avg_reward_100ep = 10\n",
        "rewards = []\n",
        "running_rewards = []\n",
        "restore_model = True\n",
        "successes = 0\n",
        "\n",
        "gamma=0.95\n",
        "epsilon=.2"
      ],
      "execution_count": null,
      "outputs": []
    },
    {
      "cell_type": "code",
      "metadata": {
        "_cell_guid": "79c7e3d0-c299-4dcb-8224-4455121ee9b0",
        "_uuid": "d629ff2d2480ee46fbb7e2d37f6b5fab8052498a",
        "id": "Z-NPORLxnKsn",
        "colab_type": "code",
        "colab": {
          "base_uri": "https://localhost:8080/",
          "height": 35
        },
        "outputId": "fe2aae9f-f751-4ee2-f5f3-2909582cf1cf"
      },
      "source": [
        "from pyvirtualdisplay import Display\n",
        "Display().start()\n",
        "\n",
        "import gym\n",
        "from IPython import display\n",
        "import matplotlib.pyplot as plt\n",
        "%matplotlib inline\n",
        "\n",
        "env = gym.make('MountainCar-v0')\n",
        "env.reset()\n",
        "# img = plt.imshow(env.render('rgb_array'))"
      ],
      "execution_count": null,
      "outputs": [
        {
          "output_type": "execute_result",
          "data": {
            "text/plain": [
              "array([-0.41170899,  0.        ])"
            ]
          },
          "metadata": {
            "tags": []
          },
          "execution_count": 4
        }
      ]
    },
    {
      "cell_type": "code",
      "metadata": {
        "id": "ZZcLtEpdnKsp",
        "colab_type": "code",
        "colab": {}
      },
      "source": [
        "class Policy(nn.Module):\n",
        "\n",
        "    def __init__(self):\n",
        "        super(Policy, self).__init__()\n",
        "        self.num_actions = env.action_space.n\n",
        "        self.state_dim = env.observation_space.shape[0]\n",
        "        self.fc1 = torch.nn.Linear(self.state_dim,64,'relu')\n",
        "        self.fc2 = torch.nn.Linear(64,self.num_actions,'linear')\n",
        "        \n",
        "    def forward(self,x):\n",
        "        x = F.relu(self.fc1(x))\n",
        "        y = self.fc2(x)\n",
        "        return y"
      ],
      "execution_count": null,
      "outputs": []
    },
    {
      "cell_type": "code",
      "metadata": {
        "id": "G_nngF-xnKss",
        "colab_type": "code",
        "colab": {}
      },
      "source": [
        "def get_policy_values(state,policy):\n",
        "\n",
        "    state = Variable(torch.from_numpy(state)).type(torch.FloatTensor).unsqueeze(0)\n",
        "    policy_values = policy(state)\n",
        "    return policy_values"
      ],
      "execution_count": null,
      "outputs": []
    },
    {
      "cell_type": "code",
      "metadata": {
        "id": "M-JFOs-_nKsu",
        "colab_type": "code",
        "colab": {}
      },
      "source": [
        "# Utliziado como base: https://medium.com/@ts1829/solving-mountain-car-with-q-learning-b77bf71b1de2\n",
        "def generate_episode(policy,loss_fn, optimizer, successes, epsilon, gamma, t_max=1000):\n",
        "\n",
        "    states, actions, rewards, log_probs = [], [], [], []\n",
        "    state = env.reset()\n",
        "    \n",
        "    for t in range(t_max):\n",
        "        Q = get_policy_values(state,policy)\n",
        "        \n",
        "        if np.random.rand() <= epsilon:\n",
        "            action = random.randrange(policy.num_actions)\n",
        "        else:\n",
        "            _, action = torch.max(Q, -1)\n",
        "            action = action.item()\n",
        "            \n",
        "            \n",
        "       # Step forward and receive next state and reward\n",
        "        state_1, reward, done, _ = env.step(action)\n",
        "        \n",
        "        # Adjust reward based on car position\n",
        "        reward = state_1[0] + 0.5\n",
        "        \n",
        "        # Adjust reward for task completion\n",
        "        if state_1[0] >= 0.5:\n",
        "            reward += 1\n",
        "            print(\"Solved \",done)\n",
        "        \n",
        "        # Find max Q for t+1 state\n",
        "        Q1 = get_policy_values(state_1,policy)\n",
        "        maxQ1, _ = torch.max(Q1, -1)\n",
        "        \n",
        "        # Create target Q value for training the policy\n",
        "        Q_target = Q.clone()\n",
        "        Q_target = Variable(Q_target)\n",
        "        Q_target[0][action] = reward + torch.mul(maxQ1.detach(), gamma)\n",
        "        \n",
        "        # Calculate loss\n",
        "        loss = loss_fn(Q, Q_target)\n",
        "        \n",
        "        # Update policy\n",
        "        policy.zero_grad()\n",
        "        loss.backward()\n",
        "        optimizer.step()\n",
        "        \n",
        "        rewards.append(reward)\n",
        "\n",
        "        if done:\n",
        "            if state_1[0] >= 0.5:\n",
        "                epsilon *= .9\n",
        "                successes += 1\n",
        "            break\n",
        "        else:\n",
        "            state = state_1\n",
        "    return policy, loss_fn, rewards, epsilon, successes"
      ],
      "execution_count": null,
      "outputs": []
    },
    {
      "cell_type": "code",
      "metadata": {
        "id": "q4gDTROcnKsw",
        "colab_type": "code",
        "colab": {}
      },
      "source": [
        "def play_episodes(policy):\n",
        "    state = env.reset()\n",
        "    img = plt.imshow(env.render('rgb_array')) # only call this once\n",
        "\n",
        "    done = False\n",
        "    while not done:\n",
        "        img.set_data(env.render('rgb_array')) # just update the data\n",
        "        display.display(plt.gcf())\n",
        "        display.clear_output(wait=True)\n",
        "        \n",
        "        Q = get_policy_values(state,policy)\n",
        "        _, action = torch.max(Q, -1)\n",
        "        state,reward,done,_ = env.step(action.item())"
      ],
      "execution_count": null,
      "outputs": []
    },
    {
      "cell_type": "code",
      "metadata": {
        "id": "SYxTF8DbnKsy",
        "colab_type": "code",
        "colab": {}
      },
      "source": [
        "def plot_rewards(rewards, running_rewards):\n",
        "\n",
        "    plt.style.use('seaborn-darkgrid')\n",
        "    fig = plt.figure(figsize=(12,7))\n",
        "    ax1 = fig.add_subplot(2, 1, 1)\n",
        "    ax2 = fig.add_subplot(2, 1, 2)\n",
        "    plt.subplots_adjust(hspace=.5)\n",
        "    \n",
        "    ax1.set_title('Episodic rewards')\n",
        "    ax1.plot(rewards, label='Episodic rewards')\n",
        "    ax1.set_xlabel(\"Episodes\")\n",
        "    ax1.set_ylabel(\"Rewards\")\n",
        "    \n",
        "    ax2.set_title('Running rewards')\n",
        "    ax2.plot(running_rewards, label='Running rewards')\n",
        "    ax2.set_xlabel(\"Episodes\")\n",
        "    ax2.set_ylabel(\"Average rewards\")\n",
        "    \n",
        "    plt.show(fig)"
      ],
      "execution_count": null,
      "outputs": []
    },
    {
      "cell_type": "code",
      "metadata": {
        "id": "EmYs39s1nKs0",
        "colab_type": "code",
        "colab": {}
      },
      "source": [
        "def test(policy, episode, t_max=1000):\n",
        "    if episode % 100 == 0 and episode > 10:\n",
        "        total_reward = []\n",
        "        for i in range(10):\n",
        "            state = env.reset()\n",
        "            for j in range(t_max):\n",
        "                Q = get_policy_values(state,policy)\n",
        "                _, action = torch.max(Q, -1)\n",
        "                state,reward,done,_ = env.step(action.item())\n",
        "                  \n",
        "                # Adjust reward based on car position\n",
        "                reward = state[0] + 0.5\n",
        "\n",
        "                # Adjust reward for task completion\n",
        "                if state[0] >= 0.5:\n",
        "                    reward += 1\n",
        "                    print(\"Solved \",done)\n",
        "                total_reward.append(reward)\n",
        "                if done:\n",
        "                    break\n",
        "        ave_reward = np.mean(total_reward)\n",
        "        print(\"Test: Episode: {}. Running reward: {}\".format(episode, ave_reward))\n",
        "        return ave_reward > .3\n",
        "    return False"
      ],
      "execution_count": null,
      "outputs": []
    },
    {
      "cell_type": "code",
      "metadata": {
        "id": "daC0BnbvnKs1",
        "colab_type": "code",
        "colab": {}
      },
      "source": [
        "def train(policy,loss_fn, optimizer, num_episodes = 1000):\n",
        "    rewards = []\n",
        "    running_rewards = []\n",
        "    successes = 0\n",
        "    epsilon = .1\n",
        "    gamma=0.9\n",
        "    for i in range(num_episodes):\n",
        "        \n",
        "        state = env.reset()\n",
        "        \n",
        "        policy,loss_fn,reward,epsilon,successes = generate_episode(policy,loss_fn,optimizer, successes, epsilon, gamma) \n",
        "        rewards.append(sum(reward))   \n",
        "        running_reward = np.mean(reward)\n",
        "        running_rewards.append(running_reward)\n",
        "        \n",
        "        if verbose:\n",
        "            if not i % print_every:\n",
        "                print(\"Episode: {}. Running reward: {}. Epsilon: {}\".format(i+1, running_reward, epsilon))\n",
        "\n",
        "        if test(policy, i):\n",
        "            print(\"Ran {} episodes. Solved after {} episodes.\".format(i+1, i-100+1))\n",
        "            break\n",
        "            \n",
        "        if i == num_episodes-1 and not successes:\n",
        "            print(\"Couldn't solve after {} episodes\".format(num_episodes))\n",
        "            \n",
        "    print('successful episodes: {:d} - {:.4f}%'.format(successes, successes/num_episodes*100))\n",
        "    return rewards, running_rewards"
      ],
      "execution_count": null,
      "outputs": []
    },
    {
      "cell_type": "markdown",
      "metadata": {
        "id": "O0e2R0J3nKs3",
        "colab_type": "text"
      },
      "source": [
        "#### Treinamento da shallow learning"
      ]
    },
    {
      "cell_type": "code",
      "metadata": {
        "id": "WkLaxrAjnKs3",
        "colab_type": "code",
        "colab": {}
      },
      "source": [
        "verbose = True\n",
        "print_every = 100\n",
        "running_reward = None\n",
        "rewards = []\n",
        "running_rewards = []\n",
        "restore_model = True"
      ],
      "execution_count": null,
      "outputs": []
    },
    {
      "cell_type": "code",
      "metadata": {
        "id": "4KkjngSPnKs5",
        "colab_type": "code",
        "colab": {
          "base_uri": "https://localhost:8080/",
          "height": 413
        },
        "outputId": "0cce0501-3b64-4d82-8071-44dbfe1e3a04"
      },
      "source": [
        "print(\"shallow learning\")\n",
        "state = env.reset()\n",
        "policy = Policy()\n",
        "loss_fn = nn.MSELoss()\n",
        "optimizer = optim.Adam(policy.parameters(), lr=0.001)\n",
        "rewards,running_rewards = train(policy, loss_fn, optimizer, num_episodes=1000)"
      ],
      "execution_count": null,
      "outputs": [
        {
          "output_type": "stream",
          "text": [
            "shallow learning\n",
            "Episode: 1. Running reward: -0.0536160044855608. Epsilon: 0.1\n",
            "Solved  True\n",
            "Episode: 101. Running reward: 0.10352306360040955. Epsilon: 0.09000000000000001\n",
            "Test: Episode: 100. Running reward: 0.12522757899942188\n",
            "Episode: 201. Running reward: 0.11075276681966979. Epsilon: 0.09000000000000001\n",
            "Test: Episode: 200. Running reward: 0.12076462999422503\n",
            "Episode: 301. Running reward: 0.11449979089424492. Epsilon: 0.09000000000000001\n",
            "Test: Episode: 300. Running reward: 0.12526351446785025\n",
            "Episode: 401. Running reward: 0.10174689683598252. Epsilon: 0.09000000000000001\n",
            "Test: Episode: 400. Running reward: 0.12488883782752216\n",
            "Episode: 501. Running reward: 0.10836422734065185. Epsilon: 0.09000000000000001\n",
            "Test: Episode: 500. Running reward: 0.12336245072082576\n",
            "Episode: 601. Running reward: 0.09854193096077526. Epsilon: 0.09000000000000001\n",
            "Test: Episode: 600. Running reward: 0.12361794378359393\n",
            "Episode: 701. Running reward: 0.11176632621948006. Epsilon: 0.09000000000000001\n",
            "Test: Episode: 700. Running reward: 0.12941201653204154\n",
            "Episode: 801. Running reward: 0.12468909084108595. Epsilon: 0.09000000000000001\n",
            "Test: Episode: 800. Running reward: 0.1252874433136228\n",
            "Episode: 901. Running reward: 0.10086957707433637. Epsilon: 0.09000000000000001\n",
            "Test: Episode: 900. Running reward: 0.12332476520724002\n",
            "successful episodes: 1 - 0.1000%\n"
          ],
          "name": "stdout"
        }
      ]
    },
    {
      "cell_type": "code",
      "metadata": {
        "id": "K9qZs5OTnKs6",
        "colab_type": "code",
        "colab": {
          "base_uri": "https://localhost:8080/",
          "height": 454
        },
        "outputId": "c0d96ae6-ecff-4b2b-a1ce-f073ddcf14cf"
      },
      "source": [
        "plot_rewards(rewards, running_rewards)"
      ],
      "execution_count": null,
      "outputs": [
        {
          "output_type": "display_data",
          "data": {
            "image/png": "[encoded data removed]",
            "text/plain": [
              "<Figure size 864x504 with 2 Axes>"
            ]
          },
          "metadata": {
            "tags": []
          }
        }
      ]
    },
    {
      "cell_type": "code",
      "metadata": {
        "id": "6hlDlKUOnKs8",
        "colab_type": "code",
        "colab": {
          "base_uri": "https://localhost:8080/",
          "height": 266
        },
        "outputId": "1794e02a-814d-4674-c4fa-7a3aeaae30e3"
      },
      "source": [
        "play_episodes(policy)"
      ],
      "execution_count": null,
      "outputs": [
        {
          "output_type": "display_data",
          "data": {
            "image/png": "[encoded data removed]",
            "text/plain": [
              "<Figure size 432x288 with 1 Axes>"
            ]
          },
          "metadata": {
            "tags": []
          }
        }
      ]
    },
    {
      "cell_type": "code",
      "metadata": {
        "id": "Q65hx1UOuLnO",
        "colab_type": "code",
        "colab": {
          "base_uri": "https://localhost:8080/",
          "height": 53
        },
        "outputId": "de68001e-6fc7-455e-a77c-ac7705dd37e8"
      },
      "source": [
        "print(env.observation_space)\n",
        "print(env.action_space)"
      ],
      "execution_count": null,
      "outputs": [
        {
          "output_type": "stream",
          "text": [
            "Box(2,)\n",
            "Discrete(3)\n"
          ],
          "name": "stdout"
        }
      ]
    }
  ]
}