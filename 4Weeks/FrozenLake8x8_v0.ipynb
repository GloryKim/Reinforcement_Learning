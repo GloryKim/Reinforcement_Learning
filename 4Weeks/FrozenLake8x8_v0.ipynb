{
  "nbformat": 4,
  "nbformat_minor": 0,
  "metadata": {
    "colab": {
      "name": "FrozenLake8x8_v0.ipynb",
      "provenance": [],
      "collapsed_sections": []
    },
    "kernelspec": {
      "name": "python3",
      "display_name": "Python 3"
    }
  },
  "cells": [
    {
      "cell_type": "markdown",
      "metadata": {
        "id": "YxDhmMpr0dvH",
        "colab_type": "text"
      },
      "source": [
        "\n",
        "**FrozenLake8X8-v0 Review**\n",
        "\n",
        "Goal : 'S' 즉 시작점에서 'G' 목표지점까지 가는데에 'F'를 따라서 가며 'H' 는 빠지는 함정 구멍이다.\n",
        "\n",
        "Action_Space : print(env.action_space) 출력값은\n",
        "\n",
        "-> Discrete(4) # Up, Down, Left, Right이다.\n",
        "\n",
        "Observation_space : print(env.observation_space) 출력값은\n",
        "\n",
        "-> Discrete(64) # 가로세로 8X8 배열이라 64개 이다.\n",
        "\n",
        "render 출력은 아래의 화면처럼 나온다.\n",
        "\n",
        "SFFFFFFF\n",
        "\n",
        "FFFFFFFF\n",
        "\n",
        "FFFHFFFF\n",
        "\n",
        "FFFFFHFF\n",
        "\n",
        "FFFHFFFF\n",
        "\n",
        "FHHFFFHF\n",
        "\n",
        "FHFFHFHF\n",
        "\n",
        "FFFHFFFG\n"
      ]
    },
    {
      "cell_type": "markdown",
      "metadata": {
        "id": "pkaGK_jO7IYl",
        "colab_type": "text"
      },
      "source": [
        "![FrozenLake8X8.PNG](data:image/png;base64,iVBORw0KGgoAAAANSUhEUgAAAGAAAACxCAYAAAA7+riyAAAAAXNSR0IArs4c6QAAAARnQU1BAACxjwv8YQUAAAAJcEhZcwAADsMAAA7DAcdvqGQAAARRSURBVHhe7dbrjdtAEAPglOXeUkLquxbSxgUDZIDFYkw9ZkVaOv744MtwV7JEONKv1+v1bTouQMwFiLkAMXkBX19f5fxTXP39pAVUFxezWbVmniFH18+6+5GPLGBrdvSGbK3v5h2yAt5dVDXv3oAVN7j7Hd65ZQHoZkSW+fg5m9fP8xnKOh5VwDiPv/Pf1fp57ZhV9qw54yMLmFVrjsy21lf5bM+aMx7zC0CzrfVVPtuz5gwXMP39zp41Z/gZMP39zp41Z8gKCFs35t0M3YzIMp8/R+OsykdbecdjCkCzvces1mVWzVeQFhBWXlzexFStOWrl96vIC/jpXICYCxBzAWIuQMwFiLULePfqN8/TnTKGVgHVF80Zuoi7ZAwuAGQMywtIT8gYljwDjszDXTKGdgEhLmK+kJyN7pYxLCkgjV8eXchdMoalBYS8IPbNuiJjWP4QztkVN4SdMbgAkDG0/wuKCxiN83Hd6C4Zw/JngB3jAsRcgJgLEHMBYi5AzAWItQqId+jKUzKGdgHVPDwhY3ABIGNwASBjcAEgY1j+EH5SxuBfAMgYXADIGFwAyBhcAMgYXADIGFoFWJ8LEHMBYi5AzAWIuQAxFyDWKiDeoSvdLI+fxqxyVcbQLqCah5VZzljnY3IBIGNwASBjcAEgY1j+EL4iC6uPuSdj8C8AZAwuAGQMLgBkDC4AZAwuAGQMrQKszwWIuQAxFyDmAsRcgNgjCvj7+89b1fpP0iog3qEr7CxudH6OYtY5H0O7gGoemNmeAuY9CWUMLgBkDC4AZAwuAGQMyx/CiixvduXsMVn8CwAZgwsAGYMLABmDCwAZgwsAGUOrgE8x3/hRtf6TuACxRxRwZy5AzAWIuQAxFyDWKiDeoSvdLI+fxqxyVcbQLqCah5VZzljnY3IBIGNwASBjcAEgY1j+EL4iC6uPuSdj8C8AZAwuAGQMLgBkDC4AZAwuAGQMrQKszwWIuQAxFyDmAsRcgJgLEGsVEO/Qlcyq9XuySjeLz9GYVeb1V2kXUM1DleXsaJZWZnvOx+ACwD4GFwD2MbgAsI9h+UMYZeFMho55Ngtb+xj8CwD7GFwA2MfgAsA+BhcA9jG4ALCPoVWA9bkAMRcg5gLEXICYCxBzAWKtAuIdupJZtT4/K3uyPFYas8q4ZjRmlXn9VdoFVPNQZTk7ui+tPOaefQwuAOxjcAFgH4MLAPsYlj+EURbO7LvimGFrH4N/AWAfgwsA+xhcANjH4ALAPgYXAPYxtAqwPhcg5gLEXICYCxBzAWIuQKxVQLxDV7pZHj+NWaWTpXfzq7ULqOZhZZazK84X5nxr/Uo/vgB0PgYXADIGFwAyhuUP4SuysPqYY1aty9nV/AsA52NwAeB8DC4AnI/hxxcQxjz+3lq/kgv4L9bsOc9qrQKszwWIuQAxFyDmAsRcgJgLEHMBYi5AzAWIuQAxFyDmAsRcgJgLEHMBYi5A6vX9D5r4oTKxVeb8AAAAAElFTkSuQmCC)"
      ]
    },
    {
      "cell_type": "code",
      "metadata": {
        "id": "OdK6SunGtMvR",
        "colab_type": "code",
        "colab": {}
      },
      "source": [
        "import gym\n",
        "import numpy as np\n",
        "from time import sleep\n",
        "from IPython.display import display, clear_output, Pretty"
      ],
      "execution_count": null,
      "outputs": []
    },
    {
      "cell_type": "code",
      "metadata": {
        "id": "2BkByLzDtQht",
        "colab_type": "code",
        "colab": {
          "base_uri": "https://localhost:8080/",
          "height": 197
        },
        "outputId": "1280d301-e1eb-4550-dbcb-95864d519b1e"
      },
      "source": [
        "#\n",
        "# Environment\n",
        "#\n",
        "env = gym.make('FrozenLake8x8-v0')\n",
        "state = env.reset()\n",
        "\n",
        "# Initial world display\n",
        "world = env.render(mode='ansi')\n",
        "display(Pretty(world))\n",
        "sleep(0.5)\n",
        "\n",
        "#\n",
        "# Agent\n",
        "#\n",
        "for step in range(100):\n",
        "    action =env.action_space.sample()\n",
        "    next_state, reward, done, info = env.step(action)    \n",
        "    state = next_state\n",
        "    \n",
        "    # updated world display\n",
        "    world = env.render(mode='ansi')\n",
        "    clear_output(wait=True)\n",
        "    display(Pretty(world))\n",
        "    sleep(0.5)\n",
        "    \n",
        "    if done: # an episode finished\n",
        "        print(\"Episode finished after {} timesteps\".format(step+1))\n",
        "        break"
      ],
      "execution_count": null,
      "outputs": [
        {
          "output_type": "display_data",
          "data": {
            "text/plain": [
              "  (Right)\n",
              "SFFFFFFF\n",
              "FFFFFFFF\n",
              "FFF\u001b[41mH\u001b[0mFFFF\n",
              "FFFFFHFF\n",
              "FFFHFFFF\n",
              "FHHFFFHF\n",
              "FHFFHFHF\n",
              "FFFHFFFG\n"
            ]
          },
          "metadata": {
            "tags": []
          }
        },
        {
          "output_type": "stream",
          "text": [
            "Episode finished after 7 timesteps\n"
          ],
          "name": "stdout"
        }
      ]
    },
    {
      "cell_type": "code",
      "metadata": {
        "id": "PqSPx_Ntt8qS",
        "colab_type": "code",
        "colab": {
          "base_uri": "https://localhost:8080/",
          "height": 53
        },
        "outputId": "87b19f66-0a2b-4b4f-c653-b1b99356c67a"
      },
      "source": [
        "print(env.observation_space)\n",
        "print(env.action_space)"
      ],
      "execution_count": null,
      "outputs": [
        {
          "output_type": "stream",
          "text": [
            "Discrete(64)\n",
            "Discrete(4)\n"
          ],
          "name": "stdout"
        }
      ]
    },
    {
      "cell_type": "code",
      "metadata": {
        "id": "kS_8sxcOtQkR",
        "colab_type": "code",
        "colab": {
          "base_uri": "https://localhost:8080/",
          "height": 233
        },
        "outputId": "ebc9c7ac-44c4-4711-8572-4c5ae10ad1ad"
      },
      "source": [
        "env.P[55]"
      ],
      "execution_count": null,
      "outputs": [
        {
          "output_type": "execute_result",
          "data": {
            "text/plain": [
              "{0: [(0.3333333333333333, 47, 0.0, False),\n",
              "  (0.3333333333333333, 54, 0.0, True),\n",
              "  (0.3333333333333333, 63, 1.0, True)],\n",
              " 1: [(0.3333333333333333, 54, 0.0, True),\n",
              "  (0.3333333333333333, 63, 1.0, True),\n",
              "  (0.3333333333333333, 55, 0.0, False)],\n",
              " 2: [(0.3333333333333333, 63, 1.0, True),\n",
              "  (0.3333333333333333, 55, 0.0, False),\n",
              "  (0.3333333333333333, 47, 0.0, False)],\n",
              " 3: [(0.3333333333333333, 55, 0.0, False),\n",
              "  (0.3333333333333333, 47, 0.0, False),\n",
              "  (0.3333333333333333, 54, 0.0, True)]}"
            ]
          },
          "metadata": {
            "tags": []
          },
          "execution_count": 3
        }
      ]
    },
    {
      "cell_type": "code",
      "metadata": {
        "id": "PDk0VlZwtQmt",
        "colab_type": "code",
        "colab": {
          "base_uri": "https://localhost:8080/",
          "height": 35
        },
        "outputId": "7047d34d-74ab-466f-fd2a-9a4c66a715ea"
      },
      "source": [
        "from tqdm import tqdm\n",
        "\n",
        "num_state = env.observation_space.n\n",
        "num_action = env.action_space.n\n",
        "num_episode = 5000\n",
        "\n",
        "# Initialize Q_table \n",
        "Q_table = np.random.uniform(low=0.0, high=0.00000001, size=(num_state, num_action))\n",
        "# Zero for terminate states\n",
        "for s in [19, 29, 35, 41, 42, 49, 52, 54, 59, 63]:\n",
        "    Q_table[s] = 0\n",
        "\n",
        "# Hyper parameter\n",
        "epsilon = 0.3\n",
        "alpha = 0.1\n",
        "gamma = 0.9\n",
        "\n",
        "for episode in tqdm(range(num_episode)):\n",
        "    state = env.reset()\n",
        "    done = False\n",
        "    while not done:\n",
        "        if np.random.uniform() < epsilon:\n",
        "            action = env.action_space.sample()\n",
        "        else:\n",
        "            action = np.argmax(Q_table[state])\n",
        "        next_state, reward, done, info = env.step(action)\n",
        "        \n",
        "        target = reward + gamma*Q_table[next_state, np.argmax(Q_table[next_state])] \n",
        "        delta = target - Q_table[state][action]\n",
        "        Q_table[state][action] += alpha * delta\n",
        "        state = next_state"
      ],
      "execution_count": null,
      "outputs": [
        {
          "output_type": "stream",
          "text": [
            "100%|██████████| 5000/5000 [00:05<00:00, 897.95it/s]\n"
          ],
          "name": "stderr"
        }
      ]
    },
    {
      "cell_type": "code",
      "metadata": {
        "id": "AbsFsOhTtQpI",
        "colab_type": "code",
        "colab": {
          "base_uri": "https://localhost:8080/",
          "height": 179
        },
        "outputId": "807e0050-6f2a-48cc-d126-136c0cda178a"
      },
      "source": [
        "state = env.reset()\n",
        "done = False\n",
        "\n",
        "# Initial world display\n",
        "world = env.render(mode='ansi')\n",
        "display(Pretty(world))\n",
        "sleep(0.5)\n",
        "\n",
        "while not done:\n",
        "    action = np.argmax(Q_table[state]) # Optimal Policy\n",
        "    state, reward, done, info = env.step(action)\n",
        "    \n",
        "    # updated world display\n",
        "    world = env.render(mode='ansi')\n",
        "    clear_output(wait=True)\n",
        "    display(Pretty(world))\n",
        "    sleep(0.5)\n",
        "    \n",
        "    if done and state == 63:\n",
        "        print('\\n 성공!')"
      ],
      "execution_count": null,
      "outputs": [
        {
          "output_type": "display_data",
          "data": {
            "text/plain": [
              "  (Right)\n",
              "SFFFFFFF\n",
              "FFFFFFFF\n",
              "FFFHFFFF\n",
              "FFFFF\u001b[41mH\u001b[0mFF\n",
              "FFFHFFFF\n",
              "FHHFFFHF\n",
              "FHFFHFHF\n",
              "FFFHFFFG\n"
            ]
          },
          "metadata": {
            "tags": []
          }
        }
      ]
    }
  ]
}